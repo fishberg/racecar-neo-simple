{
 "cells": [
  {
   "cell_type": "code",
   "execution_count": 1,
   "id": "3c7ac586-d82d-4a1b-a25d-dfecccae21af",
   "metadata": {},
   "outputs": [
    {
     "name": "stdout",
     "output_type": "stream",
     "text": [
      "ROS initialized successfully\n"
     ]
    }
   ],
   "source": [
    "from racecar_simple import Racecar"
   ]
  },
  {
   "cell_type": "code",
   "execution_count": 2,
   "id": "0d1f0aa9-12d1-4935-8aac-d0d3626295fd",
   "metadata": {},
   "outputs": [
    {
     "name": "stdout",
     "output_type": "stream",
     "text": [
      "racecar created successfully\n"
     ]
    }
   ],
   "source": [
    "rc = Racecar()"
   ]
  },
  {
   "cell_type": "code",
   "execution_count": 3,
   "id": "72c3d6ef-ba65-4912-84f8-a9b566a6a0cc",
   "metadata": {},
   "outputs": [],
   "source": [
    "rc.drive(1.,1.)"
   ]
  },
  {
   "cell_type": "code",
   "execution_count": 4,
   "id": "8ad8fe26-050f-4187-a89b-810cf0acdb25",
   "metadata": {},
   "outputs": [],
   "source": [
    "def func():\n",
    "    pass"
   ]
  },
  {
   "cell_type": "code",
   "execution_count": 5,
   "id": "5d6adea2-7a98-4c34-bdb1-d85df7a79819",
   "metadata": {},
   "outputs": [
    {
     "name": "stdout",
     "output_type": "stream",
     "text": [
      "run start\n",
      "runtime: 2 seconds\n",
      "run complete\n"
     ]
    }
   ],
   "source": [
    "rc.run(func,runtime=2)"
   ]
  },
  {
   "cell_type": "code",
   "execution_count": null,
   "id": "ce7d02bc-28f0-456b-a1e5-1cf6281b5a08",
   "metadata": {},
   "outputs": [],
   "source": []
  }
 ],
 "metadata": {
  "kernelspec": {
   "display_name": "Python 3 (ipykernel)",
   "language": "python",
   "name": "python3"
  },
  "language_info": {
   "codemirror_mode": {
    "name": "ipython",
    "version": 3
   },
   "file_extension": ".py",
   "mimetype": "text/x-python",
   "name": "python",
   "nbconvert_exporter": "python",
   "pygments_lexer": "ipython3",
   "version": "3.10.12"
  }
 },
 "nbformat": 4,
 "nbformat_minor": 5
}
